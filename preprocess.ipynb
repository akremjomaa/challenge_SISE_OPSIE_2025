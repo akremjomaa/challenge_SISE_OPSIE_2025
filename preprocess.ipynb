{
 "cells": [
  {
   "cell_type": "code",
   "execution_count": null,
   "metadata": {},
   "outputs": [],
   "source": [
    "# read csv\n",
    "import re\n",
    "import pandas as pd\n",
    "import matplotlib.pyplot as plt\n",
    "import seaborn as sns\n",
    "\n",
    "# Définition du format des logs avec une regex\n",
    "log_pattern = re.compile(\n",
    "    r'(?P<date>\\d{4}-\\d{2}-\\d{2} \\d{2}:\\d{2}:\\d{2}) '  # Date et heure\n",
    "    r'SRC=(?P<source_ip>\\d+\\.\\d+\\.\\d+\\.\\d+) '          # IP source\n",
    "    r'DST=(?P<destination_ip>\\d+\\.\\d+\\.\\d+\\.\\d+) '     # IP destination\n",
    "    r'PROTO=(?P<protocol>\\w+) '                        # Protocole (TCP/UDP)\n",
    "    r'DPT=(?P<destination_port>\\d+) '                  # Port de destination\n",
    "    r'ACT=(?P<action>\\w+) '                            # Action (Permit/Deny)\n",
    "    r'RULE=(?P<rule_id>\\d+) '                          # ID de la règle firewall\n",
    "    r'IN=(?P<interface_in>\\w+) '                       # Interface d’entrée\n",
    "    r'OUT=(?P<interface_out>\\w+)'                      # Interface de sortie\n",
    ")\n",
    "\n",
    "# Charger et parser les logs\n",
    "log_data = []\n",
    "with open(\"log_brute.log\", \"r\", encoding=\"utf-8\") as f:\n",
    "    for line in f:\n",
    "        match = log_pattern.search(line)\n",
    "        if match:\n",
    "            log_data.append(match.groupdict())  # Ajouter les données extraites\n",
    "\n",
    "# Convertir en DataFrame\n",
    "df = pd.DataFrame(log_data)\n",
    "\n",
    "# Sauvegarder les données nettoyées dans un CSV pour analyse\n",
    "df.to_csv(\"parsed_logs.csv\", index=False)\n",
    "\n",
    "# Vérifier les 5 premières lignes\n",
    "print(df.head())\n"
   ]
  },
  {
   "cell_type": "markdown",
   "metadata": {},
   "source": [
    "Analyse et Groupement par IP Source"
   ]
  },
  {
   "cell_type": "code",
   "execution_count": null,
   "metadata": {},
   "outputs": [],
   "source": [
    "# Grouper les logs par adresse IP source\n",
    "gb = df.groupby(\"source_ip\")\n",
    "\n",
    "# Créer un nouveau DataFrame avec les statistiques par IP source\n",
    "ip_stats = pd.DataFrame(index=gb.indices.keys())\n",
    "\n",
    "# Nombre total de connexions par IP source\n",
    "ip_stats[\"total_connexions\"] = gb.size()\n",
    "\n",
    "# Nombre distinct d'IP de destination par IP source\n",
    "ip_stats[\"destinations_uniques\"] = gb[\"destination_ip\"].nunique()\n",
    "\n",
    "# Nombre distinct de ports de destination par IP source\n",
    "ip_stats[\"ports_distincts\"] = gb[\"destination_port\"].nunique()\n",
    "\n",
    "# Nombre de connexions \"Permit\" et \"Deny\"\n",
    "action_counts = df.groupby([\"source_ip\", \"action\"]).size().unstack(fill_value=0)\n",
    "ip_stats[\"Permit\"] = action_counts[\"Permit\"] if \"Permit\" in action_counts else 0\n",
    "ip_stats[\"Deny\"] = action_counts[\"Deny\"] if \"Deny\" in action_counts else 0\n",
    "\n",
    "# Nombre de connexions vers des ports inférieurs ou égaux à 1024 (services critiques)\n",
    "ip_stats[\"connexions_inf_1024\"] = gb.apply(lambda x: (x[\"destination_port\"] <= 1024).sum())\n",
    "\n",
    "# Nombre de connexions vers des ports administratifs (SSH, FTP, MySQL, RDP)\n",
    "admin_ports = [21, 22, 3389, 3306]  # FTP, SSH, RDP, MySQL\n",
    "ip_stats[\"connexions_admin\"] = gb.apply(lambda x: x[x[\"destination_port\"].isin(admin_ports)].shape[0])\n",
    "\n",
    "# Sauvegarder les statistiques dans un CSV pour analyse\n",
    "ip_stats.to_csv(\"ip_stats.csv\")\n",
    "\n",
    "# Afficher les 10 premières lignes du DataFrame\n",
    "print(ip_stats.head(10))\n"
   ]
  }
 ],
 "metadata": {
  "kernelspec": {
   "display_name": "firewall_ml",
   "language": "python",
   "name": "python3"
  },
  "language_info": {
   "name": "python",
   "version": "3.9.21"
  }
 },
 "nbformat": 4,
 "nbformat_minor": 2
}
