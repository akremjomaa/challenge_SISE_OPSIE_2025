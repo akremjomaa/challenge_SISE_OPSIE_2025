{
 "cells": [
  {
   "cell_type": "code",
   "execution_count": null,
   "metadata": {},
   "outputs": [
    {
     "data": {
      "text/html": [
       "<div>\n",
       "<style scoped>\n",
       "    .dataframe tbody tr th:only-of-type {\n",
       "        vertical-align: middle;\n",
       "    }\n",
       "\n",
       "    .dataframe tbody tr th {\n",
       "        vertical-align: top;\n",
       "    }\n",
       "\n",
       "    .dataframe thead th {\n",
       "        text-align: right;\n",
       "    }\n",
       "</style>\n",
       "<table border=\"1\" class=\"dataframe\">\n",
       "  <thead>\n",
       "    <tr style=\"text-align: right;\">\n",
       "      <th></th>\n",
       "      <th>timestamp</th>\n",
       "      <th>source_ip</th>\n",
       "      <th>destination_ip</th>\n",
       "      <th>protocol</th>\n",
       "      <th>destination_port</th>\n",
       "      <th>action</th>\n",
       "      <th>firewall_rule</th>\n",
       "      <th>interface_in</th>\n",
       "      <th>interface_out</th>\n",
       "    </tr>\n",
       "  </thead>\n",
       "  <tbody>\n",
       "    <tr>\n",
       "      <th>0</th>\n",
       "      <td>2024-03-20 01:29:24</td>\n",
       "      <td>94.102.61.47</td>\n",
       "      <td>159.84.146.99</td>\n",
       "      <td>TCP</td>\n",
       "      <td>3178</td>\n",
       "      <td>DENY</td>\n",
       "      <td>999</td>\n",
       "      <td>eth0</td>\n",
       "      <td>Unknown</td>\n",
       "    </tr>\n",
       "    <tr>\n",
       "      <th>1</th>\n",
       "      <td>2024-03-20 01:29:25</td>\n",
       "      <td>176.111.174.85</td>\n",
       "      <td>159.84.146.99</td>\n",
       "      <td>TCP</td>\n",
       "      <td>2231</td>\n",
       "      <td>DENY</td>\n",
       "      <td>999</td>\n",
       "      <td>eth0</td>\n",
       "      <td>Unknown</td>\n",
       "    </tr>\n",
       "    <tr>\n",
       "      <th>2</th>\n",
       "      <td>2024-03-20 01:29:27</td>\n",
       "      <td>66.249.65.106</td>\n",
       "      <td>159.84.146.99</td>\n",
       "      <td>TCP</td>\n",
       "      <td>443</td>\n",
       "      <td>PERMIT</td>\n",
       "      <td>1</td>\n",
       "      <td>eth0</td>\n",
       "      <td>Unknown</td>\n",
       "    </tr>\n",
       "    <tr>\n",
       "      <th>3</th>\n",
       "      <td>2024-03-20 01:29:34</td>\n",
       "      <td>89.248.163.75</td>\n",
       "      <td>159.84.146.99</td>\n",
       "      <td>TCP</td>\n",
       "      <td>8845</td>\n",
       "      <td>DENY</td>\n",
       "      <td>999</td>\n",
       "      <td>eth0</td>\n",
       "      <td>Unknown</td>\n",
       "    </tr>\n",
       "    <tr>\n",
       "      <th>4</th>\n",
       "      <td>2024-03-20 01:29:38</td>\n",
       "      <td>42.58.163.244</td>\n",
       "      <td>159.84.146.99</td>\n",
       "      <td>TCP</td>\n",
       "      <td>23</td>\n",
       "      <td>DENY</td>\n",
       "      <td>7</td>\n",
       "      <td>eth0</td>\n",
       "      <td>Unknown</td>\n",
       "    </tr>\n",
       "  </tbody>\n",
       "</table>\n",
       "</div>"
      ],
      "text/plain": [
       "            timestamp       source_ip destination_ip protocol  \\\n",
       "0 2024-03-20 01:29:24    94.102.61.47  159.84.146.99      TCP   \n",
       "1 2024-03-20 01:29:25  176.111.174.85  159.84.146.99      TCP   \n",
       "2 2024-03-20 01:29:27   66.249.65.106  159.84.146.99      TCP   \n",
       "3 2024-03-20 01:29:34   89.248.163.75  159.84.146.99      TCP   \n",
       "4 2024-03-20 01:29:38   42.58.163.244  159.84.146.99      TCP   \n",
       "\n",
       "   destination_port  action  firewall_rule interface_in interface_out  \n",
       "0              3178    DENY            999         eth0       Unknown  \n",
       "1              2231    DENY            999         eth0       Unknown  \n",
       "2               443  PERMIT              1         eth0       Unknown  \n",
       "3              8845    DENY            999         eth0       Unknown  \n",
       "4                23    DENY              7         eth0       Unknown  "
      ]
     },
     "execution_count": 1,
     "metadata": {},
     "output_type": "execute_result"
    }
   ],
   "source": [
    "import pandas as pd\n",
    "\n",
    "\n",
    "df = pd.read_parquet('cleaned_log_export.parquet')\n",
    "\n",
    "\n",
    "df.head()\n"
   ]
  },
  {
   "cell_type": "code",
   "execution_count": 2,
   "metadata": {},
   "outputs": [
    {
     "data": {
      "text/plain": [
       "timestamp           0\n",
       "source_ip           0\n",
       "destination_ip      0\n",
       "protocol            0\n",
       "destination_port    0\n",
       "action              0\n",
       "firewall_rule       0\n",
       "interface_in        0\n",
       "interface_out       0\n",
       "dtype: int64"
      ]
     },
     "execution_count": 2,
     "metadata": {},
     "output_type": "execute_result"
    }
   ],
   "source": [
    "df.isnull().sum()"
   ]
  },
  {
   "cell_type": "code",
   "execution_count": 2,
   "metadata": {},
   "outputs": [],
   "source": [
    "from kmodes.kmodes import KModes\n"
   ]
  },
  {
   "cell_type": "code",
   "execution_count": 3,
   "metadata": {},
   "outputs": [
    {
     "name": "stdout",
     "output_type": "stream",
     "text": [
      "Init: initializing centroids\n",
      "Init: initializing clusters\n",
      "Starting iterations...\n",
      "Run 1, iteration: 1/100, moves: 24, cost: 29022480.0\n",
      "Init: initializing centroids\n",
      "Init: initializing clusters\n",
      "Starting iterations...\n",
      "Run 2, iteration: 1/100, moves: 29, cost: 29022480.0\n",
      "Init: initializing centroids\n",
      "Init: initializing clusters\n",
      "Starting iterations...\n",
      "Run 3, iteration: 1/100, moves: 0, cost: 29272266.0\n",
      "Init: initializing centroids\n",
      "Init: initializing clusters\n",
      "Starting iterations...\n",
      "Run 4, iteration: 1/100, moves: 0, cost: 33698542.0\n",
      "Init: initializing centroids\n",
      "Init: initializing clusters\n",
      "Starting iterations...\n",
      "Run 5, iteration: 1/100, moves: 3705, cost: 32716563.0\n",
      "Best run was number 1\n",
      "Centres des clusters: [[Timestamp('2024-12-06 00:50:09') '3.224.220.101' '159.84.146.99' 'TCP'\n",
      "  443 'PERMIT' 1 'eth0' 'Unknown']\n",
      " [Timestamp('2024-12-06 00:50:09') '23.22.35.162' '159.84.146.99' 'TCP'\n",
      "  443 'PERMIT' 1 'eth0' 'Unknown']\n",
      " [Timestamp('2024-05-19 01:02:17') '109.234.162.235' '159.84.146.99'\n",
      "  'TCP' 50217 'PERMIT' 555 'eth0' 'Unknown']]\n"
     ]
    }
   ],
   "source": [
    "\n",
    "# Définition du nombre de clusters\n",
    "k = 3  \n",
    "\n",
    "# Création du modèle K-Modes avec initialisation \"Huang\" et 10 répétitions\n",
    "km = KModes(n_clusters=k, init=\"Huang\", n_init=5, verbose=1, random_state=42)\n",
    "\n",
    "# Entraînement du modèle\n",
    "clusters = km.fit_predict(df)\n",
    "\n",
    "# Ajouter les labels de clusters au DataFrame original\n",
    "df[\"Cluster\"] = clusters\n",
    "\n",
    "# Affichage des centres des clusters\n",
    "print(\"Centres des clusters:\", km.cluster_centroids_)\n"
   ]
  },
  {
   "cell_type": "code",
   "execution_count": 4,
   "metadata": {},
   "outputs": [
    {
     "data": {
      "image/png": "[encoded data removed]",
      "text/plain": [
       "<Figure size 640x480 with 1 Axes>"
      ]
     },
     "metadata": {},
     "output_type": "display_data"
    }
   ],
   "source": [
    "import seaborn as sns\n",
    "import matplotlib.pyplot as plt\n",
    "\n",
    "# Répartition des clusters\n",
    "sns.countplot(x=df[\"Cluster\"])\n",
    "plt.title(\"Répartition des clusters\")\n",
    "plt.show()"
   ]
  },
  {
   "cell_type": "code",
   "execution_count": null,
   "metadata": {},
   "outputs": [],
   "source": [
    "sns.scatterplot(x=df.iloc[:, 0], y=df.iloc[:, 1], hue=df[\"Cluster\"], palette=\"viridis\")\n",
    "plt.title(\"Visualisation des clusters selon deux premières variables\")\n",
    "plt.xticks(rotation=45)\n",
    "plt.show()"
   ]
  }
 ],
 "metadata": {
  "kernelspec": {
   "display_name": "Python 3",
   "language": "python",
   "name": "python3"
  },
  "language_info": {
   "codemirror_mode": {
    "name": "ipython",
    "version": 3
   },
   "file_extension": ".py",
   "mimetype": "text/x-python",
   "name": "python",
   "nbconvert_exporter": "python",
   "pygments_lexer": "ipython3",
   "version": "3.12.9"
  }
 },
 "nbformat": 4,
 "nbformat_minor": 2
}
